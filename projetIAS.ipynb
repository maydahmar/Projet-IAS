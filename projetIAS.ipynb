{
 "cells": [
  {
   "cell_type": "code",
   "execution_count": 27,
   "metadata": {},
   "outputs": [],
   "source": [
    "import pandas as pd\n"
   ]
  },
  {
   "cell_type": "code",
   "execution_count": 34,
   "metadata": {},
   "outputs": [],
   "source": [
    "df_home = pd.read_csv(\"./players_home_matches.csv\")\n",
    "df_home = df_home.drop(['matchWeek', 'aerials_lost', 'aerials_won', 'assists', 'assisted_shots', 'blocked_shots', 'blocked_shots_saves', 'cards_yellow', 'carries_into_penalty_area', \n",
    "'carries_into_final_third', 'carry_progressive_distance', 'corner_kicks', 'corner_kicks_out', 'corner_kicks_straight', 'dribble_tackles', 'dribbles', 'dribbled_past', \n",
    "'dribbles_completed', 'dribbles_vs', 'errors', 'gca', 'minutes', 'miscontrols', 'npxg', 'nutmegs',  'passes_blocked', 'passes_completed_long', 'passes_completed_medium',\n",
    "'passes_completed_short', 'passes_dead', 'passes_free_kicks', 'passes_ground', 'passes_head', 'passes_high', 'passes_into_final_third', 'passes_into_penalty_area',\n",
    "'passes_left_foot','passes_live','xa','xg','touches_mid_3rd', 'touches_live_ball','touches_def_pen_area', 'touches_def_3rd', 'touches_att_pen_area', 'touches_att_3rd', \n",
    "'through_balls','tackles_mid_3rd', 'tackles_interceptions','tackles_def_3rd','tackles_att_3rd','sca','progressive_passes_received','pressures_def_3rd', 'pressures_mid_3rd',\n",
    "'pressures_att_3rd', 'pressure_regains', 'pens_att', 'passes_total_distance', 'passes_switches', 'passes_short', 'passes_right_foot', 'passes_received', \n",
    "'passes_progressive_distance', 'passes_pressure','passes_long', 'passes_low', 'passes_medium'],  axis = 1 )\n",
    "\n",
    "df_home['passes_completed_pct'] = df_home['passes_completed'] /df_home['passes'] "
   ]
  },
  {
   "cell_type": "code",
   "execution_count": 35,
   "metadata": {},
   "outputs": [],
   "source": [
    "\n",
    "df_away = pd.read_csv(\"./players_away_matches.csv\")\n",
    "df_away = df_away.drop(['matchWeek', 'aerials_lost', 'aerials_won', 'assists', 'assisted_shots', 'blocked_shots', 'blocked_shots_saves', 'cards_yellow', 'carries_into_penalty_area', \n",
    "'carries_into_final_third', 'carry_progressive_distance', 'corner_kicks', 'corner_kicks_out', 'corner_kicks_straight', 'dribble_tackles', 'dribbles', 'dribbled_past', \n",
    "'dribbles_completed', 'dribbles_vs', 'errors', 'gca', 'minutes', 'miscontrols', 'npxg', 'nutmegs',  'passes_blocked', 'passes_completed_long', 'passes_completed_medium',\n",
    "'passes_completed_short', 'passes_dead', 'passes_free_kicks', 'passes_ground', 'passes_head', 'passes_high', 'passes_into_final_third', 'passes_into_penalty_area',\n",
    "'passes_left_foot','passes_live','xa','xg','touches_mid_3rd', 'touches_live_ball','touches_def_pen_area', 'touches_def_3rd', 'touches_att_pen_area', 'touches_att_3rd', \n",
    "'through_balls','tackles_mid_3rd', 'tackles_interceptions','tackles_def_3rd','tackles_att_3rd','sca','progressive_passes_received','pressures_def_3rd', 'pressures_mid_3rd',\n",
    "'pressures_att_3rd', 'pressure_regains', 'pens_att', 'passes_total_distance', 'passes_switches', 'passes_short', 'passes_right_foot', 'passes_received', \n",
    "'passes_progressive_distance', 'passes_pressure','passes_long', 'passes_low', 'passes_medium'],  axis = 1)\n"
   ]
  },
  {
   "cell_type": "code",
   "execution_count": 36,
   "metadata": {},
   "outputs": [],
   "source": [
    "df_away['passes_completed_pct'] = df_away['passes_completed'] /df_away['passes'] "
   ]
  },
  {
   "cell_type": "code",
   "execution_count": 39,
   "metadata": {},
   "outputs": [],
   "source": [
    "df_home = df_home.drop(['passes', 'passes_completed'], axis = 1)\n",
    "df_away = df_away.drop(['passes', 'passes_completed'], axis = 1)\n"
   ]
  },
  {
   "cell_type": "code",
   "execution_count": null,
   "metadata": {},
   "outputs": [],
   "source": []
  }
 ],
 "metadata": {
  "kernelspec": {
   "display_name": "Python 3",
   "language": "python",
   "name": "python3"
  },
  "language_info": {
   "codemirror_mode": {
    "name": "ipython",
    "version": 3
   },
   "file_extension": ".py",
   "mimetype": "text/x-python",
   "name": "python",
   "nbconvert_exporter": "python",
   "pygments_lexer": "ipython3",
   "version": "3.8.10"
  },
  "orig_nbformat": 4,
  "vscode": {
   "interpreter": {
    "hash": "916dbcbb3f70747c44a77c7bcd40155683ae19c65e1c03b4aa3499c5328201f1"
   }
  }
 },
 "nbformat": 4,
 "nbformat_minor": 2
}
